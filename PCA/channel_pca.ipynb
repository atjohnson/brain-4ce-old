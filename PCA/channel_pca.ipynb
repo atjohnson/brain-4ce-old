{
 "cells": [
  {
   "cell_type": "code",
   "execution_count": 5,
   "metadata": {},
   "outputs": [],
   "source": [
    "#import torch\n",
    "import pyedflib\n",
    "import numpy as np\n",
    "import mne\n",
    "import urllib.request\n"
   ]
  },
  {
   "cell_type": "code",
   "execution_count": 21,
   "metadata": {},
   "outputs": [],
   "source": [
    "file = pyedflib.EdfReader('./Data/files/S001/S001R10.edf')\n",
    "annotations = file.readAnnotations()\n",
    "n = file.signals_in_file\n",
    "signal_labels = file.getSignalLabels()\n",
    "sigbufs = np.zeros((n,file.getNSamples()[0]))\n",
    "for i in np.arange(n):\n",
    "    sigbufs[i,:]=file.readSignal(i)\n",
    "file.close()"
   ]
  },
  {
   "cell_type": "code",
   "execution_count": 22,
   "metadata": {},
   "outputs": [
    {
     "name": "stdout",
     "output_type": "stream",
     "text": [
      "(array([  0. ,   4.2,   8.3,  12.5,  16.6,  20.8,  24.9,  29.1,  33.2,\n",
      "        37.4,  41.5,  45.7,  49.8,  54. ,  58.1,  62.3,  66.4,  70.6,\n",
      "        74.7,  78.9,  83. ,  87.2,  91.3,  95.5,  99.6, 103.8, 107.9,\n",
      "       112.1, 116.2, 120.4]), array([4.2, 4.1, 4.2, 4.1, 4.2, 4.1, 4.2, 4.1, 4.2, 4.1, 4.2, 4.1, 4.2,\n",
      "       4.1, 4.2, 4.1, 4.2, 4.1, 4.2, 4.1, 4.2, 4.1, 4.2, 4.1, 4.2, 4.1,\n",
      "       4.2, 4.1, 4.2, 4.1]), array(['T0', 'T1', 'T0', 'T2', 'T0', 'T2', 'T0', 'T1', 'T0', 'T2', 'T0',\n",
      "       'T1', 'T0', 'T1', 'T0', 'T2', 'T0', 'T2', 'T0', 'T1', 'T0', 'T1',\n",
      "       'T0', 'T2', 'T0', 'T2', 'T0', 'T1', 'T0', 'T2'], dtype='<U2'))\n"
     ]
    }
   ],
   "source": [
    "print(annotations)\n"
   ]
  },
  {
   "cell_type": "code",
   "execution_count": 11,
   "metadata": {},
   "outputs": [
    {
     "name": "stdout",
     "output_type": "stream",
     "text": [
      "9760\n"
     ]
    }
   ],
   "source": [
    "#sigbufs is a single recording 64x9760 where 64 is channel count. 160 samples/sec \n",
    "print(len(sigbufs[0]))"
   ]
  }
 ],
 "metadata": {
  "kernelspec": {
   "display_name": "base",
   "language": "python",
   "name": "python3"
  },
  "language_info": {
   "codemirror_mode": {
    "name": "ipython",
    "version": 3
   },
   "file_extension": ".py",
   "mimetype": "text/x-python",
   "name": "python",
   "nbconvert_exporter": "python",
   "pygments_lexer": "ipython3",
   "version": "3.7.4"
  },
  "orig_nbformat": 4
 },
 "nbformat": 4,
 "nbformat_minor": 2
}
